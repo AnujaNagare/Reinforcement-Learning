{
 "cells": [
  {
   "cell_type": "code",
   "execution_count": 1,
   "metadata": {
    "collapsed": true
   },
   "outputs": [],
   "source": [
    "import gym\n",
    "import numpy as np"
   ]
  },
  {
   "cell_type": "code",
   "execution_count": 2,
   "metadata": {},
   "outputs": [
    {
     "name": "stderr",
     "output_type": "stream",
     "text": [
      "[2017-12-21 20:16:50,544] Making new env: FrozenLake-v0\n"
     ]
    }
   ],
   "source": [
    "env = gym.make('FrozenLake-v0')"
   ]
  },
  {
   "cell_type": "code",
   "execution_count": 3,
   "metadata": {
    "collapsed": true
   },
   "outputs": [],
   "source": [
    "n_state = env.observation_space.n\n",
    "n_actions = env.action_space.n"
   ]
  },
  {
   "cell_type": "code",
   "execution_count": 4,
   "metadata": {},
   "outputs": [
    {
     "name": "stdout",
     "output_type": "stream",
     "text": [
      "16\n",
      "4\n"
     ]
    }
   ],
   "source": [
    "print(n_state)\n",
    "print(n_actions)"
   ]
  },
  {
   "cell_type": "code",
   "execution_count": 5,
   "metadata": {},
   "outputs": [
    {
     "name": "stdout",
     "output_type": "stream",
     "text": [
      "\n",
      "\u001b[41mS\u001b[0mFFF\n",
      "FHFH\n",
      "FFFH\n",
      "HFFG\n"
     ]
    }
   ],
   "source": [
    "env.render()"
   ]
  },
  {
   "cell_type": "code",
   "execution_count": 13,
   "metadata": {},
   "outputs": [
    {
     "name": "stdout",
     "output_type": "stream",
     "text": [
      "episode 100 reward 1.0 total avg reward 0.08\n",
      "episode 200 reward 0.0 total avg reward 0.06\n",
      "episode 300 reward 0.0 total avg reward 0.043333333333333335\n",
      "episode 400 reward 1.0 total avg reward 0.0475\n",
      "episode 500 reward 0.0 total avg reward 0.046\n",
      "episode 600 reward 1.0 total avg reward 0.041666666666666664\n",
      "episode 700 reward 0.0 total avg reward 0.04\n",
      "episode 800 reward 0.0 total avg reward 0.04\n",
      "episode 900 reward 0.0 total avg reward 0.03777777777777778\n",
      "episode 1000 reward 0.0 total avg reward 0.036\n"
     ]
    }
   ],
   "source": [
    "epsilon = 0.5 # using epsilon greedy strategy \n",
    "episodes = 1000\n",
    "Q = np.zeros([n_state, n_actions])\n",
    "rewardTracker = [] \n",
    "\n",
    "alpha = 0.618 #Learning rate\n",
    "G=0\n",
    "\n",
    "for episode in range(1,episodes+1):\n",
    "    done = False\n",
    "    G, reward = 0, 0\n",
    "    state = env.reset()\n",
    "    firstState = state\n",
    "    \n",
    "    while done != True:\n",
    "        \n",
    "        if np.random.rand() > epsilon: # using epsilon greedy strategy for explore exploit dilemma\n",
    "            action = np.argmax(Q[state])\n",
    "        else:\n",
    "            action = env.action_space.sample() \n",
    "   \n",
    "        state2, reward, done, info = env.step(action)\n",
    "        \n",
    "        Q[state, action] = Q[state, action] + alpha * (reward + np.argmax(Q[state2]- Q[state, action]))        \n",
    "        G += reward\n",
    "        state = state2\n",
    "\n",
    "    rewardTracker.append(G)\n",
    "    \n",
    "    if episode % 100 == 0:\n",
    "        print('episode {} reward {} total avg reward {}'.format(episode, G, (sum(rewardTracker)/len(rewardTracker))))\n",
    "    "
   ]
  },
  {
   "cell_type": "code",
   "execution_count": 12,
   "metadata": {},
   "outputs": [
    {
     "data": {
      "text/plain": [
       "1019.0819999999977"
      ]
     },
     "execution_count": 12,
     "metadata": {},
     "output_type": "execute_result"
    }
   ],
   "source": [
    "np.sum(Q)"
   ]
  },
  {
   "cell_type": "code",
   "execution_count": null,
   "metadata": {
    "collapsed": true
   },
   "outputs": [],
   "source": []
  }
 ],
 "metadata": {
  "kernelspec": {
   "display_name": "Python 3",
   "language": "python",
   "name": "python3"
  },
  "language_info": {
   "codemirror_mode": {
    "name": "ipython",
    "version": 3
   },
   "file_extension": ".py",
   "mimetype": "text/x-python",
   "name": "python",
   "nbconvert_exporter": "python",
   "pygments_lexer": "ipython3",
   "version": "3.6.3"
  }
 },
 "nbformat": 4,
 "nbformat_minor": 2
}
