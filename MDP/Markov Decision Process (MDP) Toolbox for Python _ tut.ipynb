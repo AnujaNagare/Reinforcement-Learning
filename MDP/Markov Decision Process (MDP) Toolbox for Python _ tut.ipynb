{
 "cells": [
  {
   "cell_type": "code",
   "execution_count": 43,
   "metadata": {
    "collapsed": true
   },
   "outputs": [],
   "source": [
    "# Ref: https://github.com/sawcordwell/pymdptoolbox\n",
    "# !pip install pymdptoolbox"
   ]
  },
  {
   "cell_type": "markdown",
   "metadata": {},
   "source": [
    "- States: default 3 (state 0: youngest state and state s-1: oldest state)\n",
    "- Actions: 2 (‘Wait’ be action 0 and ‘Cut’ be action 1)\n"
   ]
  },
  {
   "cell_type": "code",
   "execution_count": 48,
   "metadata": {},
   "outputs": [
    {
     "name": "stdout",
     "output_type": "stream",
     "text": [
      "Transition function:\n",
      " [[[ 0.1  0.9  0. ]\n",
      "  [ 0.1  0.   0.9]\n",
      "  [ 0.1  0.   0.9]]\n",
      "\n",
      " [[ 1.   0.   0. ]\n",
      "  [ 1.   0.   0. ]\n",
      "  [ 1.   0.   0. ]]] \n",
      "Reward Function:\n",
      " [[ 0.  0.]\n",
      " [ 0.  1.]\n",
      " [ 4.  2.]]\n",
      "Policy is :\n"
     ]
    },
    {
     "data": {
      "text/plain": [
       "(0, 0, 0)"
      ]
     },
     "execution_count": 48,
     "metadata": {},
     "output_type": "execute_result"
    }
   ],
   "source": [
    "import mdptoolbox.example\n",
    "P, R = mdptoolbox.example.forest()\n",
    "print(\"Transition function:\\n\", P , \"\\nReward Function:\\n\", R)\n",
    "\n",
    "vi = mdptoolbox.mdp.ValueIteration(P, R, 0.9)\n",
    "vi.run()\n",
    "\n",
    "print(\"Policy is :\")\n",
    "vi.policy # result is (0, 0, 0)"
   ]
  },
  {
   "cell_type": "code",
   "execution_count": 50,
   "metadata": {},
   "outputs": [
    {
     "name": "stdout",
     "output_type": "stream",
     "text": [
      "Transition function:\n",
      " [[[ 0.1  0.9  0.   0.   0.   0.   0.   0.   0.   0.   0.   0. ]\n",
      "  [ 0.1  0.   0.9  0.   0.   0.   0.   0.   0.   0.   0.   0. ]\n",
      "  [ 0.1  0.   0.   0.9  0.   0.   0.   0.   0.   0.   0.   0. ]\n",
      "  [ 0.1  0.   0.   0.   0.9  0.   0.   0.   0.   0.   0.   0. ]\n",
      "  [ 0.1  0.   0.   0.   0.   0.9  0.   0.   0.   0.   0.   0. ]\n",
      "  [ 0.1  0.   0.   0.   0.   0.   0.9  0.   0.   0.   0.   0. ]\n",
      "  [ 0.1  0.   0.   0.   0.   0.   0.   0.9  0.   0.   0.   0. ]\n",
      "  [ 0.1  0.   0.   0.   0.   0.   0.   0.   0.9  0.   0.   0. ]\n",
      "  [ 0.1  0.   0.   0.   0.   0.   0.   0.   0.   0.9  0.   0. ]\n",
      "  [ 0.1  0.   0.   0.   0.   0.   0.   0.   0.   0.   0.9  0. ]\n",
      "  [ 0.1  0.   0.   0.   0.   0.   0.   0.   0.   0.   0.   0.9]\n",
      "  [ 0.1  0.   0.   0.   0.   0.   0.   0.   0.   0.   0.   0.9]]\n",
      "\n",
      " [[ 1.   0.   0.   0.   0.   0.   0.   0.   0.   0.   0.   0. ]\n",
      "  [ 1.   0.   0.   0.   0.   0.   0.   0.   0.   0.   0.   0. ]\n",
      "  [ 1.   0.   0.   0.   0.   0.   0.   0.   0.   0.   0.   0. ]\n",
      "  [ 1.   0.   0.   0.   0.   0.   0.   0.   0.   0.   0.   0. ]\n",
      "  [ 1.   0.   0.   0.   0.   0.   0.   0.   0.   0.   0.   0. ]\n",
      "  [ 1.   0.   0.   0.   0.   0.   0.   0.   0.   0.   0.   0. ]\n",
      "  [ 1.   0.   0.   0.   0.   0.   0.   0.   0.   0.   0.   0. ]\n",
      "  [ 1.   0.   0.   0.   0.   0.   0.   0.   0.   0.   0.   0. ]\n",
      "  [ 1.   0.   0.   0.   0.   0.   0.   0.   0.   0.   0.   0. ]\n",
      "  [ 1.   0.   0.   0.   0.   0.   0.   0.   0.   0.   0.   0. ]\n",
      "  [ 1.   0.   0.   0.   0.   0.   0.   0.   0.   0.   0.   0. ]\n",
      "  [ 1.   0.   0.   0.   0.   0.   0.   0.   0.   0.   0.   0. ]]] \n",
      "Reward Function:\n",
      " [[ 0.  0.]\n",
      " [ 0.  1.]\n",
      " [ 0.  1.]\n",
      " [ 0.  1.]\n",
      " [ 0.  1.]\n",
      " [ 0.  1.]\n",
      " [ 0.  1.]\n",
      " [ 0.  1.]\n",
      " [ 0.  1.]\n",
      " [ 0.  1.]\n",
      " [ 0.  1.]\n",
      " [ 4.  2.]]\n",
      "Policy is :\n"
     ]
    },
    {
     "data": {
      "text/plain": [
       "(0, 1, 0, 0, 0, 0, 0, 0, 0, 0, 0, 0)"
      ]
     },
     "execution_count": 50,
     "metadata": {},
     "output_type": "execute_result"
    }
   ],
   "source": [
    "import mdptoolbox.example\n",
    "P, R = mdptoolbox.example.forest(S=12)\n",
    "print(\"Transition function:\\n\", P , \"\\nReward Function:\\n\", R)\n",
    "\n",
    "vi = mdptoolbox.mdp.ValueIteration(P, R, 0.9)\n",
    "vi.run()\n",
    "\n",
    "print(\"Policy is :\")\n",
    "vi.policy "
   ]
  }
 ],
 "metadata": {
  "kernelspec": {
   "display_name": "Python 3",
   "language": "python",
   "name": "python3"
  },
  "language_info": {
   "codemirror_mode": {
    "name": "ipython",
    "version": 3
   },
   "file_extension": ".py",
   "mimetype": "text/x-python",
   "name": "python",
   "nbconvert_exporter": "python",
   "pygments_lexer": "ipython3",
   "version": "3.6.3"
  }
 },
 "nbformat": 4,
 "nbformat_minor": 2
}
