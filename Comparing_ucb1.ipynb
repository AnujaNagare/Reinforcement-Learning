{
 "cells": [
  {
   "cell_type": "code",
   "execution_count": 13,
   "metadata": {
    "collapsed": true
   },
   "outputs": [],
   "source": [
    "#comparing epsilons\n",
    "#ref: https://deeplearningcourses.com/c/artificial-intelligence-reinforcement-learning-in-python\n",
    "#     https://www.udemy.com/artificial-intelligence-reinforcement-learning-in-python"
   ]
  },
  {
   "cell_type": "code",
   "execution_count": 14,
   "metadata": {
    "collapsed": true
   },
   "outputs": [],
   "source": [
    "from __future__ import print_function, division # Note: update your version of future\n",
    "from builtins import range\n",
    "import numpy as np\n",
    "import matplotlib.pyplot as plt\n",
    "%matplotlib inline "
   ]
  },
  {
   "cell_type": "code",
   "execution_count": 15,
   "metadata": {
    "collapsed": true
   },
   "outputs": [],
   "source": [
    "class Bandit:\n",
    " def __init__(self, m):\n",
    "    self.m = m\n",
    "    self.mean = 0 \n",
    "    self.N = 1 \n",
    "\n",
    " def pull(self):\n",
    "    return np.random.randn() + self.m # randn : return a sample (or samples) from “standard normal” distribution.\n",
    "\n",
    " def update(self, x):\n",
    "        self.N = self.N + 1\n",
    "        self.mean = (1 - 1.0/self.N)*self.mean + 1.0/self.N*x"
   ]
  },
  {
   "cell_type": "code",
   "execution_count": 16,
   "metadata": {
    "collapsed": true
   },
   "outputs": [],
   "source": [
    "def ucb(mean, n, nj):\n",
    "    if nj == 0:\n",
    "        return float('inf')\n",
    "    return mean + np.sqrt(2*np.log(n) / nj)"
   ]
  },
  {
   "cell_type": "code",
   "execution_count": 17,
   "metadata": {
    "collapsed": true
   },
   "outputs": [],
   "source": [
    "def run_experiment_ucb1(m1, m2, m3, N):\n",
    "  bandits = [Bandit(m1), Bandit(m2), Bandit(m3)]\n",
    "\n",
    "  data = np.empty(N) # empty: return a new array of given shape and type, without initializing entries.\n",
    "  \n",
    "  for i in range(N):\n",
    "    # confedence bound\n",
    "    j = np.argmax([ucb(b.mean, i+1, b.N) for b in bandits]) \n",
    "    x = bandits[j].pull()\n",
    "    bandits[j].update(x)\n",
    "\n",
    "    # for the plot\n",
    "    data[i] = x\n",
    "  cumulative_average = np.cumsum(data) / (np.arange(N) + 1)\n",
    "\n",
    "  for b in bandits:\n",
    "    print(\"bandit nj:\", b.N)\n",
    "\n",
    "  # plot moving average ctr\n",
    "  plt.plot(cumulative_average)\n",
    "  plt.plot(np.ones(N)*m1)\n",
    "  plt.plot(np.ones(N)*m2)\n",
    "  plt.plot(np.ones(N)*m3)\n",
    "  plt.xscale('log')\n",
    "  plt.show()\n",
    "\n",
    "  for b in bandits:\n",
    "    print(b.mean)\n",
    "\n",
    "  return cumulative_average"
   ]
  },
  {
   "cell_type": "code",
   "execution_count": 18,
   "metadata": {
    "collapsed": true
   },
   "outputs": [],
   "source": [
    "def run_experiment_eps(m1, m2, m3, eps, N):\n",
    "  bandits = [Bandit(m1), Bandit(m2), Bandit(m3)]\n",
    "\n",
    "  data = np.empty(N) # empty: return a new array of given shape and type, without initializing entries.\n",
    "  \n",
    "  for i in range(N):\n",
    "    # epsilon greedy\n",
    "    p = np.random.random()\n",
    "    if p < eps:\n",
    "      j = np.random.choice(3) #choices: Generates a random sample from a given 1-D array\n",
    "    else:\n",
    "      j = np.argmax([b.mean for b in bandits]) #argmax: Returns the indices of the maximum values along an axis.\n",
    "    x = bandits[j].pull()\n",
    "    bandits[j].update(x)\n",
    "\n",
    "    # for the plot\n",
    "    data[i] = x\n",
    "  cumulative_average = np.cumsum(data) / (np.arange(N) + 1)\n",
    "\n",
    "  # plot moving average ctr\n",
    "  plt.plot(cumulative_average)\n",
    "  plt.plot(np.ones(N)*m1)\n",
    "  plt.plot(np.ones(N)*m2)\n",
    "  plt.plot(np.ones(N)*m3)\n",
    "  plt.xscale('log')\n",
    "  plt.show()\n",
    "\n",
    "  for b in bandits:\n",
    "    print(b.mean)\n",
    "\n",
    "  return cumulative_average"
   ]
  },
  {
   "cell_type": "code",
   "execution_count": null,
   "metadata": {
    "collapsed": true
   },
   "outputs": [],
   "source": []
  },
  {
   "cell_type": "code",
   "execution_count": 19,
   "metadata": {},
   "outputs": [
    {
     "data": {
      "image/png": "[encoded data removed]",
      "text/plain": [
       "<matplotlib.figure.Figure at 0x11735db70>"
      ]
     },
     "metadata": {},
     "output_type": "display_data"
    },
    {
     "name": "stdout",
     "output_type": "stream",
     "text": [
      "1.0129175502954226\n",
      "1.9796158428726929\n",
      "3.000640186012339\n",
      "bandit nj: 2\n",
      "bandit nj: 14\n",
      "bandit nj: 99987\n"
     ]
    },
    {
     "data": {
      "image/png": "[encoded data removed]",
      "text/plain": [
       "<matplotlib.figure.Figure at 0x1172803c8>"
      ]
     },
     "metadata": {},
     "output_type": "display_data"
    },
    {
     "name": "stdout",
     "output_type": "stream",
     "text": [
      "-0.8357215943313063\n",
      "1.6764649774725517\n",
      "2.998623064820316\n"
     ]
    }
   ],
   "source": [
    "if __name__ == '__main__':\n",
    "  c_1 = run_experiment_eps(1.0, 2.0, 3.0, 0.1, 100000)\n",
    "  ucb = run_experiment_ucb1(1.0, 2.0, 3.0, 100000)"
   ]
  },
  {
   "cell_type": "code",
   "execution_count": 20,
   "metadata": {},
   "outputs": [
    {
     "data": {
      "image/png": "[encoded data removed]",
      "text/plain": [
       "<matplotlib.figure.Figure at 0x11cbf4c18>"
      ]
     },
     "metadata": {},
     "output_type": "display_data"
    }
   ],
   "source": [
    "  # log scale plot\n",
    "  plt.plot(c_1, label='eps = 0.1')\n",
    "  plt.plot(ucb, label='ucb1')\n",
    "  plt.legend()\n",
    "  plt.xscale('log')\n",
    "  plt.show()"
   ]
  },
  {
   "cell_type": "code",
   "execution_count": 21,
   "metadata": {},
   "outputs": [
    {
     "data": {
      "image/png": "[encoded data removed]",
      "text/plain": [
       "<matplotlib.figure.Figure at 0x11cbf57f0>"
      ]
     },
     "metadata": {},
     "output_type": "display_data"
    }
   ],
   "source": [
    "  # linear plot\n",
    "  plt.plot(c_1, label='eps = 0.1')\n",
    "  plt.plot(ucb, label='ucb1')\n",
    "  plt.legend()\n",
    "  plt.show()"
   ]
  }
 ],
 "metadata": {
  "kernelspec": {
   "display_name": "Python 3",
   "language": "python",
   "name": "python3"
  },
  "language_info": {
   "codemirror_mode": {
    "name": "ipython",
    "version": 3
   },
   "file_extension": ".py",
   "mimetype": "text/x-python",
   "name": "python",
   "nbconvert_exporter": "python",
   "pygments_lexer": "ipython3",
   "version": "3.6.1"
  }
 },
 "nbformat": 4,
 "nbformat_minor": 2
}
